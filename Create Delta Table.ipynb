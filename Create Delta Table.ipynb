{
 "cells": [
  {
   "cell_type": "markdown",
   "metadata": {
    "application/vnd.databricks.v1+cell": {
     "cellMetadata": {
      "byteLimit": 2048000,
      "rowLimit": 10000
     },
     "inputWidgets": {},
     "nuid": "a6d76183-3863-4e00-bf36-b92ca56a4094",
     "showTitle": false,
     "title": ""
    }
   },
   "source": [
    "Method 1 Delta Table\n"
   ]
  },
  {
   "cell_type": "code",
   "execution_count": 0,
   "metadata": {
    "application/vnd.databricks.v1+cell": {
     "cellMetadata": {
      "byteLimit": 2048000,
      "rowLimit": 10000
     },
     "inputWidgets": {},
     "nuid": "874e9874-3dac-4234-981f-d4a3ff6b9a6c",
     "showTitle": false,
     "title": ""
    }
   },
   "outputs": [
    {
     "output_type": "stream",
     "name": "stdout",
     "output_type": "stream",
     "text": [
      "Out[1]: <delta.tables.DeltaTable at 0x7fe3981e6370>"
     ]
    }
   ],
   "source": [
    "from delta.tables import *\n",
    "\n",
    "DeltaTable.create(spark)\\\n",
    "    .tableName(\"employee_demo\")\\\n",
    "    .addColumn(\"emp_id\",\"INT\")\\\n",
    "    .addColumn(\"emp_name\",\"STRING\")\\\n",
    "    .addColumn(\"gender\",\"STRING\")\\\n",
    "    .addColumn(\"salary\",\"INT\")\\\n",
    "    .addColumn(\"department\",\"STRING\")\\\n",
    "    .property(\"description\", \"table created for demo purpose\")\\\n",
    "    .location(\"/Filestore/tables/delta/createtable\")\\\n",
    "    .execute()"
   ]
  },
  {
   "cell_type": "code",
   "execution_count": 0,
   "metadata": {
    "application/vnd.databricks.v1+cell": {
     "cellMetadata": {
      "byteLimit": 2048000,
      "implicitDf": true,
      "rowLimit": 10000
     },
     "inputWidgets": {},
     "nuid": "72e18f6a-67fa-4aa8-b26d-c5c633bf701c",
     "showTitle": false,
     "title": ""
    }
   },
   "outputs": [
    {
     "output_type": "display_data",
     "data": {
      "text/html": [
       "<style scoped>\n",
       "  .table-result-container {\n",
       "    max-height: 300px;\n",
       "    overflow: auto;\n",
       "  }\n",
       "  table, th, td {\n",
       "    border: 1px solid black;\n",
       "    border-collapse: collapse;\n",
       "  }\n",
       "  th, td {\n",
       "    padding: 5px;\n",
       "  }\n",
       "  th {\n",
       "    text-align: left;\n",
       "  }\n",
       "</style><div class='table-result-container'><table class='table-result'><thead style='background-color: white'><tr><th>emp_id</th><th>emp_name</th><th>gender</th><th>salary</th><th>department</th></tr></thead><tbody></tbody></table></div>"
      ]
     },
     "metadata": {
      "application/vnd.databricks.v1+output": {
       "addedWidgets": {},
       "aggData": [],
       "aggError": "",
       "aggOverflow": false,
       "aggSchema": [],
       "aggSeriesLimitReached": false,
       "aggType": "",
       "arguments": {},
       "columnCustomDisplayInfos": {},
       "data": [],
       "datasetInfos": [],
       "dbfsResultPath": null,
       "isJsonSchema": true,
       "metadata": {},
       "overflow": false,
       "plotOptions": {
        "customPlotOptions": {},
        "displayType": "table",
        "pivotAggregation": null,
        "pivotColumns": null,
        "xColumns": null,
        "yColumns": null
       },
       "removedWidgets": [],
       "schema": [
        {
         "metadata": "{}",
         "name": "emp_id",
         "type": "\"integer\""
        },
        {
         "metadata": "{}",
         "name": "emp_name",
         "type": "\"string\""
        },
        {
         "metadata": "{}",
         "name": "gender",
         "type": "\"string\""
        },
        {
         "metadata": "{}",
         "name": "salary",
         "type": "\"integer\""
        },
        {
         "metadata": "{}",
         "name": "department",
         "type": "\"string\""
        }
       ],
       "type": "table"
      }
     },
     "output_type": "display_data"
    }
   ],
   "source": [
    "%sql\n",
    "\n",
    "select * from employee_demo"
   ]
  },
  {
   "cell_type": "code",
   "execution_count": 0,
   "metadata": {
    "application/vnd.databricks.v1+cell": {
     "cellMetadata": {
      "byteLimit": 2048000,
      "rowLimit": 10000
     },
     "inputWidgets": {},
     "nuid": "2d2a5833-ff6f-4b35-ad8f-5dc8039d59b8",
     "showTitle": false,
     "title": ""
    }
   },
   "outputs": [
    {
     "output_type": "stream",
     "name": "stdout",
     "output_type": "stream",
     "text": [
      "Out[4]: <delta.tables.DeltaTable at 0x7fe38aa91280>"
     ]
    }
   ],
   "source": [
    "from delta.tables import *\n",
    "\n",
    "DeltaTable.createIfNotExists(spark)\\\n",
    "    .tableName(\"employee_demo\")\\\n",
    "    .addColumn(\"emp_id\",\"INT\")\\\n",
    "    .addColumn(\"emp_name\",\"STRING\")\\\n",
    "    .addColumn(\"gender\",\"STRING\")\\\n",
    "    .addColumn(\"salary\",\"INT\")\\\n",
    "    .addColumn(\"department\",\"STRING\")\\\n",
    "    .execute()"
   ]
  },
  {
   "cell_type": "code",
   "execution_count": 0,
   "metadata": {
    "application/vnd.databricks.v1+cell": {
     "cellMetadata": {},
     "inputWidgets": {},
     "nuid": "374535b2-df91-44f7-9622-5986c8023549",
     "showTitle": false,
     "title": ""
    }
   },
   "outputs": [],
   "source": [
    "from delta.tables import *\n",
    "\n",
    "DeltaTable.createOrReplace(spark)\\\n",
    "    .tableName(\"employee_demo\")\\\n",
    "    .addColumn(\"emp_id\",\"INT\")\\\n",
    "    .addColumn(\"emp_name\",\"STRING\")\\\n",
    "    .addColumn(\"gender\",\"STRING\")\\\n",
    "    .addColumn(\"salary\",\"INT\")\\\n",
    "    .addColumn(\"department\",\"STRING\")\\\n",
    "    .property(\"description\", \"table created for demo purpose\")\\\n",
    "    .location(\"/Filestore/tables/delta/createtable\")\\\n",
    "    .execute()"
   ]
  },
  {
   "cell_type": "markdown",
   "metadata": {
    "application/vnd.databricks.v1+cell": {
     "cellMetadata": {},
     "inputWidgets": {},
     "nuid": "a8c5f8b1-d3d8-4f1f-8aba-c2209377a6cc",
     "showTitle": false,
     "title": ""
    }
   },
   "source": [
    "Method 2 SQL"
   ]
  },
  {
   "cell_type": "code",
   "execution_count": 0,
   "metadata": {
    "application/vnd.databricks.v1+cell": {
     "cellMetadata": {},
     "inputWidgets": {},
     "nuid": "0538ffda-6003-42bd-8fef-28ddebcd4bc3",
     "showTitle": false,
     "title": ""
    }
   },
   "outputs": [],
   "source": [
    "%sql\n",
    "CREATE TABLE employee_demo(\n",
    "emp_id INT,\n",
    "emp_name STRING,\n",
    "gender STRING,\n",
    "salary INT,\n",
    "deapartment STRING\n",
    "), USING DELTA "
   ]
  },
  {
   "cell_type": "code",
   "execution_count": 0,
   "metadata": {
    "application/vnd.databricks.v1+cell": {
     "cellMetadata": {},
     "inputWidgets": {},
     "nuid": "7bb26d3d-eb34-455f-b02f-292c1704b341",
     "showTitle": false,
     "title": ""
    }
   },
   "outputs": [],
   "source": [
    "%sql\n",
    "\n",
    "CREATE TABLE IF NOT EXISTS employee_demo(\n",
    "emp_id INT,\n",
    "emp_name STRING,\n",
    "gender STRING,\n",
    "salary INT,\n",
    "deapartment STRING\n",
    "), USING DELTA "
   ]
  },
  {
   "cell_type": "code",
   "execution_count": 0,
   "metadata": {
    "application/vnd.databricks.v1+cell": {
     "cellMetadata": {},
     "inputWidgets": {},
     "nuid": "a6b49d3e-23cb-4d85-b4b8-9b40046c4989",
     "showTitle": false,
     "title": ""
    }
   },
   "outputs": [],
   "source": [
    "%sql\n",
    "CREATE OR REPLACE TABLE employee_demo(\n",
    "emp_id INT,\n",
    "emp_name STRING,\n",
    "gender STRING,\n",
    "salary INT,\n",
    "deapartment STRING\n",
    "), USING DELTA \n",
    "Location \"/Filestore/tables/delta/createtable\""
   ]
  },
  {
   "cell_type": "markdown",
   "metadata": {
    "application/vnd.databricks.v1+cell": {
     "cellMetadata": {},
     "inputWidgets": {},
     "nuid": "7f6e55bf-b09a-44b6-b047-91a1b62950bd",
     "showTitle": false,
     "title": ""
    }
   },
   "source": [
    "METHOD 3 Creating Dataframe"
   ]
  },
  {
   "cell_type": "code",
   "execution_count": 0,
   "metadata": {
    "application/vnd.databricks.v1+cell": {
     "cellMetadata": {
      "byteLimit": 2048000,
      "rowLimit": 10000
     },
     "inputWidgets": {},
     "nuid": "913a6d14-6641-4208-aac9-4a79391aa1ce",
     "showTitle": false,
     "title": ""
    }
   },
   "outputs": [
    {
     "output_type": "stream",
     "name": "stdout",
     "output_type": "stream",
     "text": [
      "+------+------+------+------+----+\n|emp_id|  name|gender|salary|dept|\n+------+------+------+------+----+\n|     1|  Yash|     M|500000|  IT|\n|     2|Deepti|     F| 60000|  IT|\n|     3|   Sam|     M|100000|  IT|\n+------+------+------+------+----+\n\n"
     ]
    }
   ],
   "source": [
    "employee_data = [(1, \"Yash\", \"M\", 500000,\"IT\"),\n",
    "                  (2,\"Deepti\",\"F\",60000,\"IT\"),\n",
    "                  (3,\"Sam\",\"M\",100000,\"IT\")]\n",
    "schema =(\"emp_id\",\"name\",\"gender\",\"salary\",\"dept\")\n",
    "\n",
    "df=spark.createDataFrame(data=employee_data, schema=schema)\n",
    "df.show()"
   ]
  },
  {
   "cell_type": "code",
   "execution_count": 0,
   "metadata": {
    "application/vnd.databricks.v1+cell": {
     "cellMetadata": {
      "byteLimit": 2048000,
      "rowLimit": 10000
     },
     "inputWidgets": {},
     "nuid": "d2ca28d5-6a96-46d1-8445-1159521aa627",
     "showTitle": false,
     "title": ""
    }
   },
   "outputs": [],
   "source": [
    "#create table in the metastore using Dataframe's schema and write data to it \n",
    "df.write.format(\"delta\").saveAsTable(\"default.employee_dem01\")"
   ]
  },
  {
   "cell_type": "code",
   "execution_count": 0,
   "metadata": {
    "application/vnd.databricks.v1+cell": {
     "cellMetadata": {
      "byteLimit": 2048000,
      "implicitDf": true,
      "rowLimit": 10000
     },
     "inputWidgets": {},
     "nuid": "4ee0b124-0b8a-41fb-877f-e01199961ce5",
     "showTitle": false,
     "title": ""
    }
   },
   "outputs": [
    {
     "output_type": "display_data",
     "data": {
      "text/html": [
       "<style scoped>\n",
       "  .table-result-container {\n",
       "    max-height: 300px;\n",
       "    overflow: auto;\n",
       "  }\n",
       "  table, th, td {\n",
       "    border: 1px solid black;\n",
       "    border-collapse: collapse;\n",
       "  }\n",
       "  th, td {\n",
       "    padding: 5px;\n",
       "  }\n",
       "  th {\n",
       "    text-align: left;\n",
       "  }\n",
       "</style><div class='table-result-container'><table class='table-result'><thead style='background-color: white'><tr><th>emp_id</th><th>name</th><th>gender</th><th>salary</th><th>dept</th></tr></thead><tbody><tr><td>2</td><td>Deepti</td><td>F</td><td>60000</td><td>IT</td></tr><tr><td>1</td><td>Yash</td><td>M</td><td>500000</td><td>IT</td></tr><tr><td>3</td><td>Sam</td><td>M</td><td>100000</td><td>IT</td></tr></tbody></table></div>"
      ]
     },
     "metadata": {
      "application/vnd.databricks.v1+output": {
       "addedWidgets": {},
       "aggData": [],
       "aggError": "",
       "aggOverflow": false,
       "aggSchema": [],
       "aggSeriesLimitReached": false,
       "aggType": "",
       "arguments": {},
       "columnCustomDisplayInfos": {},
       "data": [
        [
         2,
         "Deepti",
         "F",
         60000,
         "IT"
        ],
        [
         1,
         "Yash",
         "M",
         500000,
         "IT"
        ],
        [
         3,
         "Sam",
         "M",
         100000,
         "IT"
        ]
       ],
       "datasetInfos": [],
       "dbfsResultPath": null,
       "isJsonSchema": true,
       "metadata": {},
       "overflow": false,
       "plotOptions": {
        "customPlotOptions": {},
        "displayType": "table",
        "pivotAggregation": null,
        "pivotColumns": null,
        "xColumns": null,
        "yColumns": null
       },
       "removedWidgets": [],
       "schema": [
        {
         "metadata": "{}",
         "name": "emp_id",
         "type": "\"long\""
        },
        {
         "metadata": "{}",
         "name": "name",
         "type": "\"string\""
        },
        {
         "metadata": "{}",
         "name": "gender",
         "type": "\"string\""
        },
        {
         "metadata": "{}",
         "name": "salary",
         "type": "\"long\""
        },
        {
         "metadata": "{}",
         "name": "dept",
         "type": "\"string\""
        }
       ],
       "type": "table"
      }
     },
     "output_type": "display_data"
    }
   ],
   "source": [
    "%sql\n",
    "\n",
    "select * from employee_dem01"
   ]
  },
  {
   "cell_type": "code",
   "execution_count": 0,
   "metadata": {
    "application/vnd.databricks.v1+cell": {
     "cellMetadata": {},
     "inputWidgets": {},
     "nuid": "da42197c-3af7-4d53-9167-e8867883f1e2",
     "showTitle": false,
     "title": ""
    }
   },
   "outputs": [],
   "source": []
  }
 ],
 "metadata": {
  "application/vnd.databricks.v1+notebook": {
   "dashboards": [],
   "environmentMetadata": null,
   "language": "python",
   "notebookMetadata": {
    "mostRecentlyExecutedCommandWithImplicitDF": {
     "commandId": 3115289435136043,
     "dataframes": [
      "_sqldf"
     ]
    },
    "pythonIndentUnit": 4
   },
   "notebookName": "Create Delta Table",
   "widgets": {}
  }
 },
 "nbformat": 4,
 "nbformat_minor": 0
}
